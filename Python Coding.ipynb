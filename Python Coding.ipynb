{
 "cells": [
  {
   "cell_type": "code",
   "execution_count": 1,
   "id": "8e210785-f3a3-4a78-8a21-35c3fbfc6d4c",
   "metadata": {},
   "outputs": [
    {
     "name": "stdout",
     "output_type": "stream",
     "text": [
      "H\n",
      "w\n",
      "Hello\n"
     ]
    }
   ],
   "source": [
    "# Define a string\n",
    "my_string = \"Hello, world!\"\n",
    "\n",
    "# Accessing characters in a string\n",
    "print(my_string[0]) \n",
    "print(my_string[7])  \n",
    "\n",
    "# String slicing\n",
    "print(my_string[0:5])  "
   ]
  },
  {
   "cell_type": "code",
   "execution_count": 2,
   "id": "e6291fb7-9cc3-4afd-b42a-fc65d2628dfe",
   "metadata": {},
   "outputs": [
    {
     "name": "stdout",
     "output_type": "stream",
     "text": [
      "0\n",
      "1\n",
      "2\n",
      "3\n",
      "4\n",
      "0\n",
      "1\n",
      "2\n",
      "3\n",
      "4\n"
     ]
    }
   ],
   "source": [
    "# For loop\n",
    "for i in range(5):\n",
    "    print(i)\n",
    "\n",
    "# While loop\n",
    "i = 0\n",
    "while i < 5:\n",
    "    print(i)\n",
    "    i += 1"
   ]
  },
  {
   "cell_type": "code",
   "execution_count": 3,
   "id": "82fcb299-e04e-4efa-8a81-59ebe06cc2bb",
   "metadata": {},
   "outputs": [
    {
     "name": "stdout",
     "output_type": "stream",
     "text": [
      "Positive\n"
     ]
    }
   ],
   "source": [
    "x = 10\n",
    "\n",
    "if x > 0:\n",
    "    print(\"Positive\")\n",
    "elif x == 0:\n",
    "    print(\"Zero\")\n",
    "else:\n",
    "    print(\"Negative\")"
   ]
  },
  {
   "cell_type": "code",
   "execution_count": 4,
   "id": "8290d48f-4861-4996-a552-716dee3ce741",
   "metadata": {},
   "outputs": [
    {
     "name": "stdout",
     "output_type": "stream",
     "text": [
      "5\n"
     ]
    }
   ],
   "source": [
    "# Define a function\n",
    "def add(a, b):\n",
    "    return a + b\n",
    "\n",
    "# Call the function\n",
    "result = add(2, 3)\n",
    "print(result)"
   ]
  },
  {
   "cell_type": "code",
   "execution_count": 5,
   "id": "24b2aac5-a147-4947-a90a-5de52d2652a9",
   "metadata": {},
   "outputs": [
    {
     "name": "stdout",
     "output_type": "stream",
     "text": [
      "Buddy\n",
      "3\n",
      "Buddy says Woof!\n"
     ]
    }
   ],
   "source": [
    "# Define a class\n",
    "class Dog:\n",
    "    def __init__(self, name, age):\n",
    "        self.name = name\n",
    "        self.age = age\n",
    "\n",
    "    def bark(self):\n",
    "        print(f\"{self.name} says Woof!\")\n",
    "\n",
    "# Create an instance of the class\n",
    "my_dog = Dog(\"Buddy\", 3)\n",
    "\n",
    "# Access attributes and call methods\n",
    "print(my_dog.name)  \n",
    "print(my_dog.age)   \n",
    "my_dog.bark()       "
   ]
  },
  {
   "cell_type": "code",
   "execution_count": 6,
   "id": "8967fcdd-6f4c-4b2a-8dbe-7449122770eb",
   "metadata": {},
   "outputs": [
    {
     "name": "stdout",
     "output_type": "stream",
     "text": [
      "Sum: 25\n",
      "Difference: 15\n",
      "Product: 100\n",
      "Quotient: 4.0\n",
      "Integer Division: 4\n",
      "Modulus: 0\n",
      "Exponentiation: 3200000\n"
     ]
    }
   ],
   "source": [
    "a = 20\n",
    "b = 5\n",
    "print(\"Sum:\", a + b)\n",
    "print(\"Difference:\", a - b)\n",
    "print(\"Product:\", a * b)\n",
    "print(\"Quotient:\", a / b)\n",
    "print(\"Integer Division:\", a // b)\n",
    "print(\"Modulus:\", a % b)\n",
    "print(\"Exponentiation:\", a ** b)"
   ]
  },
  {
   "cell_type": "code",
   "execution_count": 7,
   "id": "7480826e-9e04-43e5-b184-9242fdfe33f7",
   "metadata": {},
   "outputs": [
    {
     "name": "stdout",
     "output_type": "stream",
     "text": [
      "Sum: 5.5\n",
      "Difference: 1.5\n",
      "Product: 7.0\n",
      "Quotient: 1.75\n",
      "Exponentiation: 12.25\n"
     ]
    }
   ],
   "source": [
    "a = 3.5\n",
    "b = 2.0\n",
    "print(\"Sum:\", a + b)\n",
    "print(\"Difference:\", a - b)\n",
    "print(\"Product:\", a * b)\n",
    "print(\"Quotient:\", a / b)\n",
    "print(\"Exponentiation:\", a ** b)"
   ]
  },
  {
   "cell_type": "code",
   "execution_count": 8,
   "id": "941e297f-1a9a-4f93-a7ed-70155a02b82d",
   "metadata": {},
   "outputs": [
    {
     "name": "stdout",
     "output_type": "stream",
     "text": [
      "Hello, world!\n"
     ]
    }
   ],
   "source": [
    "message = \"Hello, world!\"\n",
    "print(message)"
   ]
  },
  {
   "cell_type": "code",
   "execution_count": 9,
   "id": "74417399-5691-42a5-ae8e-e438a32d7ecd",
   "metadata": {},
   "outputs": [
    {
     "name": "stdout",
     "output_type": "stream",
     "text": [
      "a and b: False\n",
      "a or b: True\n",
      "not a: False\n"
     ]
    }
   ],
   "source": [
    "a = True\n",
    "b = False\n",
    "print(\"a and b:\", a and b)\n",
    "print(\"a or b:\", a or b)\n",
    "print(\"not a:\", not a)"
   ]
  },
  {
   "cell_type": "code",
   "execution_count": 10,
   "id": "6eeb2de7-6772-4ebc-8910-ae65454dd1f9",
   "metadata": {},
   "outputs": [
    {
     "name": "stdout",
     "output_type": "stream",
     "text": [
      "First element: 1\n",
      "Last element: 5\n"
     ]
    }
   ],
   "source": [
    "my_list = [1, 2, 3, 4, 5]\n",
    "print(\"First element:\", my_list[0])\n",
    "print(\"Last element:\", my_list[-1])"
   ]
  },
  {
   "cell_type": "code",
   "execution_count": 11,
   "id": "fb6ab0bc-8276-491e-af67-bbc2ca2b654a",
   "metadata": {},
   "outputs": [
    {
     "name": "stdout",
     "output_type": "stream",
     "text": [
      "Slice from index 1 to 3: (2, 3, 4)\n"
     ]
    }
   ],
   "source": [
    "my_tuple = (1, 2, 3, 4, 5)\n",
    "print(\"Slice from index 1 to 3:\", my_tuple[1:4])"
   ]
  },
  {
   "cell_type": "code",
   "execution_count": 12,
   "id": "16622e1b-7335-4e63-9fb4-1abbc1b70786",
   "metadata": {},
   "outputs": [
    {
     "name": "stdout",
     "output_type": "stream",
     "text": [
      "Name: Ali\n",
      "Age: 20\n"
     ]
    }
   ],
   "source": [
    "my_dict = {'name': 'Ali', 'age': 20, 'city': 'Karachi'}\n",
    "print(\"Name:\", my_dict['name'])\n",
    "print(\"Age:\", my_dict['age'])"
   ]
  },
  {
   "cell_type": "code",
   "execution_count": 13,
   "id": "2c8edc82-c3b3-47bb-9cc3-1d9a452e0808",
   "metadata": {},
   "outputs": [
    {
     "name": "stdout",
     "output_type": "stream",
     "text": [
      "Updated Set: {1, 2, 4, 5, 6, 7}\n"
     ]
    }
   ],
   "source": [
    "my_set = {1, 2, 3}\n",
    "my_set.add(4)  # Add a single element\n",
    "my_set.update([5, 6, 7])  # Add multiple elements\n",
    "my_set.remove(3)  # Remove an element\n",
    "print(\"Updated Set:\", my_set)"
   ]
  },
  {
   "cell_type": "code",
   "execution_count": 14,
   "id": "55ae30fd-21be-4e9e-9765-f47fe36dcf7b",
   "metadata": {},
   "outputs": [
    {
     "name": "stdout",
     "output_type": "stream",
     "text": [
      "x is None\n"
     ]
    }
   ],
   "source": [
    "# Assigning None to a variable\n",
    "x = None\n",
    "\n",
    "# Checking if the variable is None\n",
    "if x is None:\n",
    "    print(\"x is None\")\n",
    "else:\n",
    "    print(\"x is not None\")"
   ]
  },
  {
   "cell_type": "code",
   "execution_count": 3,
   "id": "052c49d3-18b2-463a-acf3-4f02e17150ab",
   "metadata": {},
   "outputs": [],
   "source": [
    "import numpy as np"
   ]
  },
  {
   "cell_type": "code",
   "execution_count": null,
   "id": "85bec693-3d31-4c80-8d55-f0e042156102",
   "metadata": {},
   "outputs": [],
   "source": [
    "import pandas as pd "
   ]
  }
 ],
 "metadata": {
  "kernelspec": {
   "display_name": "Python 3 (ipykernel)",
   "language": "python",
   "name": "python3"
  },
  "language_info": {
   "codemirror_mode": {
    "name": "ipython",
    "version": 3
   },
   "file_extension": ".py",
   "mimetype": "text/x-python",
   "name": "python",
   "nbconvert_exporter": "python",
   "pygments_lexer": "ipython3",
   "version": "3.12.3"
  }
 },
 "nbformat": 4,
 "nbformat_minor": 5
}
